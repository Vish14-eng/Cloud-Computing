{
  "cells": [
    {
      "cell_type": "markdown",
      "metadata": {
        "id": "FtQ10RX6WfFJ"
      },
      "source": [
        "# DynamoDb"
      ]
    },
    {
      "cell_type": "code",
      "source": [
        "!pip install boto3"
      ],
      "metadata": {
        "colab": {
          "base_uri": "https://localhost:8080/"
        },
        "id": "XPZaufu8PRM-",
        "outputId": "bd5adb6b-b91a-4aa9-8a64-a3b20cb42743"
      },
      "execution_count": 1,
      "outputs": [
        {
          "output_type": "stream",
          "name": "stdout",
          "text": [
            "Collecting boto3\n",
            "  Downloading boto3-1.21.16-py3-none-any.whl (132 kB)\n",
            "\u001b[?25l\r\u001b[K     |██▌                             | 10 kB 23.1 MB/s eta 0:00:01\r\u001b[K     |█████                           | 20 kB 25.8 MB/s eta 0:00:01\r\u001b[K     |███████▍                        | 30 kB 17.0 MB/s eta 0:00:01\r\u001b[K     |██████████                      | 40 kB 8.7 MB/s eta 0:00:01\r\u001b[K     |████████████▍                   | 51 kB 8.5 MB/s eta 0:00:01\r\u001b[K     |██████████████▉                 | 61 kB 9.9 MB/s eta 0:00:01\r\u001b[K     |█████████████████▍              | 71 kB 9.1 MB/s eta 0:00:01\r\u001b[K     |███████████████████▉            | 81 kB 9.3 MB/s eta 0:00:01\r\u001b[K     |██████████████████████▎         | 92 kB 10.1 MB/s eta 0:00:01\r\u001b[K     |████████████████████████▉       | 102 kB 9.2 MB/s eta 0:00:01\r\u001b[K     |███████████████████████████▎    | 112 kB 9.2 MB/s eta 0:00:01\r\u001b[K     |█████████████████████████████▊  | 122 kB 9.2 MB/s eta 0:00:01\r\u001b[K     |████████████████████████████████| 132 kB 9.2 MB/s \n",
            "\u001b[?25hCollecting jmespath<1.0.0,>=0.7.1\n",
            "  Downloading jmespath-0.10.0-py2.py3-none-any.whl (24 kB)\n",
            "Collecting botocore<1.25.0,>=1.24.16\n",
            "  Downloading botocore-1.24.16-py3-none-any.whl (8.6 MB)\n",
            "\u001b[K     |████████████████████████████████| 8.6 MB 50.2 MB/s \n",
            "\u001b[?25hCollecting s3transfer<0.6.0,>=0.5.0\n",
            "  Downloading s3transfer-0.5.2-py3-none-any.whl (79 kB)\n",
            "\u001b[K     |████████████████████████████████| 79 kB 5.2 MB/s \n",
            "\u001b[?25hRequirement already satisfied: python-dateutil<3.0.0,>=2.1 in /usr/local/lib/python3.7/dist-packages (from botocore<1.25.0,>=1.24.16->boto3) (2.8.2)\n",
            "Collecting urllib3<1.27,>=1.25.4\n",
            "  Downloading urllib3-1.26.8-py2.py3-none-any.whl (138 kB)\n",
            "\u001b[K     |████████████████████████████████| 138 kB 54.7 MB/s \n",
            "\u001b[?25hRequirement already satisfied: six>=1.5 in /usr/local/lib/python3.7/dist-packages (from python-dateutil<3.0.0,>=2.1->botocore<1.25.0,>=1.24.16->boto3) (1.15.0)\n",
            "Installing collected packages: urllib3, jmespath, botocore, s3transfer, boto3\n",
            "  Attempting uninstall: urllib3\n",
            "    Found existing installation: urllib3 1.24.3\n",
            "    Uninstalling urllib3-1.24.3:\n",
            "      Successfully uninstalled urllib3-1.24.3\n",
            "\u001b[31mERROR: pip's dependency resolver does not currently take into account all the packages that are installed. This behaviour is the source of the following dependency conflicts.\n",
            "requests 2.23.0 requires urllib3!=1.25.0,!=1.25.1,<1.26,>=1.21.1, but you have urllib3 1.26.8 which is incompatible.\n",
            "datascience 0.10.6 requires folium==0.2.1, but you have folium 0.8.3 which is incompatible.\u001b[0m\n",
            "Successfully installed boto3-1.21.16 botocore-1.24.16 jmespath-0.10.0 s3transfer-0.5.2 urllib3-1.26.8\n"
          ]
        }
      ]
    },
    {
      "cell_type": "code",
      "execution_count": 2,
      "metadata": {
        "id": "oT1Q37k2WfFT"
      },
      "outputs": [],
      "source": [
        "import boto3"
      ]
    },
    {
      "cell_type": "code",
      "execution_count": 3,
      "metadata": {
        "id": "Wxg9hvQDWfFZ"
      },
      "outputs": [],
      "source": [
        "__TableName__ = \"People\"\n",
        "Primary_Column_Name = 'Sr'\n",
        "Primary_Key = 1\n",
        "columns=[\"Age\",\"First\", \"Last\"]"
      ]
    },
    {
      "cell_type": "code",
      "execution_count": 4,
      "metadata": {
        "id": "DH2pDTGzWfFb"
      },
      "outputs": [],
      "source": [
        "\n",
        "client = boto3.client('dynamodb',region_name='ap-south-1')\n",
        "\n",
        "DB =     boto3.resource('dynamodb',region_name='ap-south-1',aws_access_key_id='',\n",
        "    aws_secret_access_key='')\n",
        "table = DB.Table(__TableName__)"
      ]
    },
    {
      "cell_type": "code",
      "source": [
        "table.put_item(\n",
        "   Item={\n",
        "        'Sr': '4',\n",
        "        'Age': 25,\n",
        "        'First': 'Doe',\n",
        "        'Last': 'Patil'\n",
        "        \n",
        "    }\n",
        ")"
      ],
      "metadata": {
        "colab": {
          "base_uri": "https://localhost:8080/"
        },
        "id": "AYUhAhWJWxbU",
        "outputId": "08b50297-9d42-43fc-9494-9933cec228d4"
      },
      "execution_count": 5,
      "outputs": [
        {
          "output_type": "execute_result",
          "data": {
            "text/plain": [
              "{'ResponseMetadata': {'HTTPHeaders': {'connection': 'keep-alive',\n",
              "   'content-length': '2',\n",
              "   'content-type': 'application/x-amz-json-1.0',\n",
              "   'date': 'Thu, 10 Mar 2022 07:33:21 GMT',\n",
              "   'server': 'Server',\n",
              "   'x-amz-crc32': '2745614147',\n",
              "   'x-amzn-requestid': 'T42JRSBK9FJ4T70DKK2176PGAFVV4KQNSO5AEMVJF66Q9ASUAAJG'},\n",
              "  'HTTPStatusCode': 200,\n",
              "  'RequestId': 'T42JRSBK9FJ4T70DKK2176PGAFVV4KQNSO5AEMVJF66Q9ASUAAJG',\n",
              "  'RetryAttempts': 0}}"
            ]
          },
          "metadata": {},
          "execution_count": 5
        }
      ]
    },
    {
      "cell_type": "markdown",
      "metadata": {
        "id": "-hxw6zP0WfFi"
      },
      "source": [
        "#### Get the data"
      ]
    },
    {
      "cell_type": "code",
      "execution_count": 8,
      "metadata": {
        "id": "vKK-J9geWfFk",
        "outputId": "ffe3107b-ec82-4823-f386-82d56c10b19d",
        "colab": {
          "base_uri": "https://localhost:8080/"
        }
      },
      "outputs": [
        {
          "output_type": "stream",
          "name": "stdout",
          "text": [
            "{'Sr': '1', 'Last': 'Shah', 'Age': Decimal('61'), 'First': 'Nitin'}\n"
          ]
        }
      ],
      "source": [
        " \n",
        "response = table.get_item(\n",
        "            Key={\n",
        "                'Sr': '1',\n",
        "                 \n",
        "            }\n",
        "        )\n",
        "\n",
        "item=response[\"Item\"]\n",
        "print(item)"
      ]
    },
    {
      "cell_type": "markdown",
      "metadata": {
        "id": "o6VjykIwWfFq"
      },
      "source": [
        "#### Put Items "
      ]
    },
    {
      "cell_type": "markdown",
      "metadata": {
        "id": "jEgGVMEgWfFx"
      },
      "source": [
        "#### Delete"
      ]
    },
    {
      "cell_type": "markdown",
      "metadata": {
        "id": "GpCaY-7pWfFz"
      },
      "source": [
        "Primary_Key = 5\n",
        "response = table.delete_item(\n",
        "            Key={\n",
        "                 Primary_Column_Name: Primary_Key\n",
        "            }\n",
        "        )\n",
        "response"
      ]
    },
    {
      "cell_type": "markdown",
      "metadata": {
        "id": "-7J7XclWWfF1"
      },
      "source": [
        "#### Describe Method"
      ]
    },
    {
      "cell_type": "markdown",
      "metadata": {
        "id": "xJy0uLU7WfF4"
      },
      "source": [
        "# Query "
      ]
    },
    {
      "cell_type": "markdown",
      "metadata": {
        "id": "Z3bBBV1EWfF8"
      },
      "source": [
        "# How to Get all the Data from DynamoDb"
      ]
    },
    {
      "cell_type": "code",
      "execution_count": 16,
      "metadata": {
        "id": "ty5iEmoOWfF9"
      },
      "outputs": [],
      "source": [
        "from boto3.dynamodb.conditions import Key, Attr\n",
        "dynamodb = boto3.resource('dynamodb', region_name='ap-south-1',aws_access_key_id='',\n",
        "    aws_secret_access_key='')\n",
        "table = dynamodb.Table('People')\n",
        "\n",
        "response = table.scan(\n",
        "    FilterExpression=Attr('Sr').gte(0)\n",
        ")"
      ]
    },
    {
      "cell_type": "code",
      "execution_count": 17,
      "metadata": {
        "id": "VrZPs2U8WfF-"
      },
      "outputs": [],
      "source": [
        "for x in response[\"Items\"]:\n",
        "    print(x)"
      ]
    },
    {
      "cell_type": "code",
      "execution_count": 19,
      "metadata": {
        "id": "rsYtTSHZWfF_"
      },
      "outputs": [],
      "source": [
        "from boto3.dynamodb.conditions import Key, Attr\n",
        "dynamodb = boto3.resource('dynamodb', region_name='ap-south-1',aws_access_key_id='',\n",
        "    aws_secret_access_key=' ')\n",
        "table = dynamodb.Table('People')\n",
        "\n",
        "response = table.scan(\n",
        "    FilterExpression=Attr('Age').gte(28)\n",
        ")"
      ]
    },
    {
      "cell_type": "code",
      "execution_count": 20,
      "metadata": {
        "id": "G__CvAigWfGA",
        "outputId": "4249160b-451b-4d4c-9de8-2fe54171e424",
        "colab": {
          "base_uri": "https://localhost:8080/"
        }
      },
      "outputs": [
        {
          "output_type": "execute_result",
          "data": {
            "text/plain": [
              "{'Count': 1,\n",
              " 'Items': [{'Age': Decimal('61'),\n",
              "   'First': 'Nitin',\n",
              "   'Last': 'Shah',\n",
              "   'Sr': '1'}],\n",
              " 'ResponseMetadata': {'HTTPHeaders': {'connection': 'keep-alive',\n",
              "   'content-length': '114',\n",
              "   'content-type': 'application/x-amz-json-1.0',\n",
              "   'date': 'Thu, 10 Mar 2022 07:51:22 GMT',\n",
              "   'server': 'Server',\n",
              "   'x-amz-crc32': '457424077',\n",
              "   'x-amzn-requestid': 'NCR7CQP1069LHJ2E9G7IBL7I5NVV4KQNSO5AEMVJF66Q9ASUAAJG'},\n",
              "  'HTTPStatusCode': 200,\n",
              "  'RequestId': 'NCR7CQP1069LHJ2E9G7IBL7I5NVV4KQNSO5AEMVJF66Q9ASUAAJG',\n",
              "  'RetryAttempts': 0},\n",
              " 'ScannedCount': 4}"
            ]
          },
          "metadata": {},
          "execution_count": 20
        }
      ],
      "source": [
        "response"
      ]
    }
  ],
  "metadata": {
    "kernelspec": {
      "display_name": "Python 3",
      "language": "python",
      "name": "python3"
    },
    "language_info": {
      "codemirror_mode": {
        "name": "ipython",
        "version": 3
      },
      "file_extension": ".py",
      "mimetype": "text/x-python",
      "name": "python",
      "nbconvert_exporter": "python",
      "pygments_lexer": "ipython3",
      "version": "3.7.3"
    },
    "colab": {
      "name": "Dynamo.ipynb",
      "provenance": []
    }
  },
  "nbformat": 4,
  "nbformat_minor": 0
}
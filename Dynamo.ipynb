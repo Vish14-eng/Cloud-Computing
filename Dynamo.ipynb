{
  "cells": [
    {
      "cell_type": "markdown",
      "metadata": {
        "id": "FtQ10RX6WfFJ"
      },
      "source": [
        "# DynamoDb"
      ]
    },
    {
      "cell_type": "code",
      "execution_count": null,
      "metadata": {
        "id": "oT1Q37k2WfFT"
      },
      "outputs": [],
      "source": [
        "import boto3"
      ]
    },
    {
      "cell_type": "code",
      "execution_count": null,
      "metadata": {
        "id": "Wxg9hvQDWfFZ"
      },
      "outputs": [],
      "source": [
        "__TableName__ = \"People\"\n",
        "Primary_Column_Name = 'Sr'\n",
        "Primary_Key = 1\n",
        "columns=[\"Age\",\"First\", \"Last\"]"
      ]
    },
    {
      "cell_type": "code",
      "execution_count": null,
      "metadata": {
        "id": "DH2pDTGzWfFb"
      },
      "outputs": [],
      "source": [
        "\n",
        "client = boto3.client('dynamodb')\n",
        "\n",
        "DB =     boto3.resource('dynamodb')\n",
        "table = DB.Table(__TableName__)"
      ]
    },
    {
      "cell_type": "markdown",
      "metadata": {
        "id": "-hxw6zP0WfFi"
      },
      "source": [
        "#### Get the data"
      ]
    },
    {
      "cell_type": "code",
      "execution_count": null,
      "metadata": {
        "id": "vKK-J9geWfFk",
        "outputId": "a62ef973-d1ef-4739-d358-36fc0a7b771b"
      },
      "outputs": [
        {
          "data": {
            "text/plain": [
              "{'Sr': Decimal('1'), 'Last': 'Shah', 'First': 'Nitin', 'Age': Decimal('61')}"
            ]
          },
          "execution_count": 6,
          "metadata": {},
          "output_type": "execute_result"
        }
      ],
      "source": [
        "\n",
        "response = table.get_item(\n",
        "            Key={\n",
        "                Primary_Column_Name:Primary_Key\n",
        "            }\n",
        "        )\n",
        "\n",
        "response[\"Item\"]"
      ]
    },
    {
      "cell_type": "markdown",
      "metadata": {
        "id": "o6VjykIwWfFq"
      },
      "source": [
        "#### Put Items "
      ]
    },
    {
      "cell_type": "code",
      "execution_count": null,
      "metadata": {
        "id": "EFoeP8XzWfFs",
        "outputId": "b601e46b-b3d6-485b-9e16-b510c329083a"
      },
      "outputs": [
        {
          "data": {
            "text/plain": [
              "200"
            ]
          },
          "execution_count": 7,
          "metadata": {},
          "output_type": "execute_result"
        }
      ],
      "source": [
        "Primary_Key = 5\n",
        "\n",
        "response = table.put_item(\n",
        "    Item={\n",
        "        Primary_Column_Name:Primary_Key,\n",
        "        columns[0]: 44,\n",
        "        columns[1] :\"Youtube\",\n",
        "        columns[2]: \"Python\"\n",
        "            }\n",
        "        )\n",
        "response[\"ResponseMetadata\"][\"HTTPStatusCode\"]"
      ]
    },
    {
      "cell_type": "markdown",
      "metadata": {
        "id": "jEgGVMEgWfFx"
      },
      "source": [
        "#### Delete"
      ]
    },
    {
      "cell_type": "markdown",
      "metadata": {
        "id": "GpCaY-7pWfFz"
      },
      "source": [
        "Primary_Key = 5\n",
        "response = table.delete_item(\n",
        "            Key={\n",
        "                 Primary_Column_Name: Primary_Key\n",
        "            }\n",
        "        )\n",
        "response"
      ]
    },
    {
      "cell_type": "markdown",
      "metadata": {
        "id": "-7J7XclWWfF1"
      },
      "source": [
        "#### Describe Method"
      ]
    },
    {
      "cell_type": "code",
      "execution_count": null,
      "metadata": {
        "id": "RC5P0_aXWfF3",
        "outputId": "7423c6f6-642b-4885-d996-6f205e9a1277"
      },
      "outputs": [
        {
          "data": {
            "text/plain": [
              "{'Table': {'AttributeDefinitions': [{'AttributeName': 'Sr',\n",
              "    'AttributeType': 'N'}],\n",
              "  'TableName': 'People',\n",
              "  'KeySchema': [{'AttributeName': 'Sr', 'KeyType': 'HASH'}],\n",
              "  'TableStatus': 'ACTIVE',\n",
              "  'CreationDateTime': datetime.datetime(2019, 8, 5, 21, 49, 49, 809000, tzinfo=tzlocal()),\n",
              "  'ProvisionedThroughput': {'NumberOfDecreasesToday': 0,\n",
              "   'ReadCapacityUnits': 5,\n",
              "   'WriteCapacityUnits': 5},\n",
              "  'TableSizeBytes': 108,\n",
              "  'ItemCount': 4,\n",
              "  'TableArn': 'arn:aws:dynamodb:us-east-1:537705251446:table/People',\n",
              "  'TableId': '757d7e1b-9fee-4ba0-8401-43ba13b9cd2b'},\n",
              " 'ResponseMetadata': {'RequestId': 'N757HUDOKPOP3E9169PD7287AJVV4KQNSO5AEMVJF66Q9ASUAAJG',\n",
              "  'HTTPStatusCode': 200,\n",
              "  'HTTPHeaders': {'server': 'Server',\n",
              "   'date': 'Wed, 07 Aug 2019 01:47:20 GMT',\n",
              "   'content-type': 'application/x-amz-json-1.0',\n",
              "   'content-length': '461',\n",
              "   'connection': 'keep-alive',\n",
              "   'x-amzn-requestid': 'N757HUDOKPOP3E9169PD7287AJVV4KQNSO5AEMVJF66Q9ASUAAJG',\n",
              "   'x-amz-crc32': '3745084407'},\n",
              "  'RetryAttempts': 0}}"
            ]
          },
          "execution_count": 10,
          "metadata": {},
          "output_type": "execute_result"
        }
      ],
      "source": [
        "response = client.describe_table(TableName = __TableName__)\n",
        "response"
      ]
    },
    {
      "cell_type": "markdown",
      "metadata": {
        "id": "xJy0uLU7WfF4"
      },
      "source": [
        "# Query "
      ]
    },
    {
      "cell_type": "code",
      "execution_count": null,
      "metadata": {
        "id": "t25OuxFtWfF5"
      },
      "outputs": [],
      "source": [
        "from boto3.dynamodb.conditions import Key\n",
        "response = table.query(\n",
        "    KeyConditionExpression=Key('Sr').eq(0)\n",
        ")"
      ]
    },
    {
      "cell_type": "code",
      "execution_count": null,
      "metadata": {
        "id": "7ghiRvNLWfF6",
        "outputId": "632ef175-5354-4f30-f50c-ef2481f79a75"
      },
      "outputs": [
        {
          "data": {
            "text/plain": [
              "[{'Sr': Decimal('0'), 'Last': 'Shah', 'First': 'Soumil', 'Age': Decimal('24')}]"
            ]
          },
          "execution_count": 12,
          "metadata": {},
          "output_type": "execute_result"
        }
      ],
      "source": [
        "response[\"Items\"]"
      ]
    },
    {
      "cell_type": "markdown",
      "metadata": {
        "id": "Z3bBBV1EWfF8"
      },
      "source": [
        "# How to Get all the Data from DynamoDb"
      ]
    },
    {
      "cell_type": "code",
      "execution_count": null,
      "metadata": {
        "id": "ty5iEmoOWfF9"
      },
      "outputs": [],
      "source": [
        "from boto3.dynamodb.conditions import Key, Attr\n",
        "dynamodb = boto3.resource('dynamodb')\n",
        "table = dynamodb.Table('People')\n",
        "\n",
        "response = table.scan(\n",
        "    FilterExpression=Attr('Sr').gte(0)\n",
        ")"
      ]
    },
    {
      "cell_type": "code",
      "execution_count": null,
      "metadata": {
        "id": "VrZPs2U8WfF-",
        "outputId": "72ccdc29-2a7a-4619-c4c8-279a30efc9e1"
      },
      "outputs": [
        {
          "name": "stdout",
          "output_type": "stream",
          "text": [
            "{'Sr': Decimal('3'), 'Last': 'Shah', 'First': 'Suhas', 'Age': Decimal('58')}\n",
            "{'Sr': Decimal('4'), 'Last': 'Shah', 'First': 'Karan', 'Age': Decimal('22')}\n",
            "{'Sr': Decimal('1'), 'Last': 'Shah', 'First': 'Nitin', 'Age': Decimal('61')}\n",
            "{'Sr': Decimal('0'), 'Last': 'Shah', 'First': 'Soumil', 'Age': Decimal('24')}\n"
          ]
        }
      ],
      "source": [
        "for x in response[\"Items\"]:\n",
        "    print(x)"
      ]
    },
    {
      "cell_type": "code",
      "execution_count": null,
      "metadata": {
        "id": "rsYtTSHZWfF_"
      },
      "outputs": [],
      "source": [
        "from boto3.dynamodb.conditions import Key, Attr\n",
        "dynamodb = boto3.resource('dynamodb')\n",
        "table = dynamodb.Table('People')\n",
        "\n",
        "response = table.scan(\n",
        "    FilterExpression=Attr('Age').gte(28)\n",
        ")"
      ]
    },
    {
      "cell_type": "code",
      "execution_count": null,
      "metadata": {
        "id": "G__CvAigWfGA",
        "outputId": "392652c3-aaee-4ec6-fc16-7b07bf797c7d"
      },
      "outputs": [
        {
          "data": {
            "text/plain": [
              "{'Items': [{'Sr': Decimal('3'),\n",
              "   'Last': 'Shah',\n",
              "   'First': 'Suhas',\n",
              "   'Age': Decimal('58')},\n",
              "  {'Sr': Decimal('1'),\n",
              "   'Last': 'Shah',\n",
              "   'First': 'Nitin',\n",
              "   'Age': Decimal('61')}],\n",
              " 'Count': 2,\n",
              " 'ScannedCount': 4,\n",
              " 'ResponseMetadata': {'RequestId': 'H3763MS34PH1JLRHKCQ9QSUVKNVV4KQNSO5AEMVJF66Q9ASUAAJG',\n",
              "  'HTTPStatusCode': 200,\n",
              "  'HTTPHeaders': {'server': 'Server',\n",
              "   'date': 'Wed, 07 Aug 2019 01:50:42 GMT',\n",
              "   'content-type': 'application/x-amz-json-1.0',\n",
              "   'content-length': '190',\n",
              "   'connection': 'keep-alive',\n",
              "   'x-amzn-requestid': 'H3763MS34PH1JLRHKCQ9QSUVKNVV4KQNSO5AEMVJF66Q9ASUAAJG',\n",
              "   'x-amz-crc32': '548359792'},\n",
              "  'RetryAttempts': 0}}"
            ]
          },
          "execution_count": 17,
          "metadata": {},
          "output_type": "execute_result"
        }
      ],
      "source": [
        "response"
      ]
    },
    {
      "cell_type": "code",
      "execution_count": null,
      "metadata": {
        "id": "jUnrTd2lWfGC"
      },
      "outputs": [],
      "source": [
        ""
      ]
    },
    {
      "cell_type": "code",
      "execution_count": null,
      "metadata": {
        "id": "tlhN4WMRWfGD"
      },
      "outputs": [],
      "source": [
        ""
      ]
    }
  ],
  "metadata": {
    "kernelspec": {
      "display_name": "Python 3",
      "language": "python",
      "name": "python3"
    },
    "language_info": {
      "codemirror_mode": {
        "name": "ipython",
        "version": 3
      },
      "file_extension": ".py",
      "mimetype": "text/x-python",
      "name": "python",
      "nbconvert_exporter": "python",
      "pygments_lexer": "ipython3",
      "version": "3.7.3"
    },
    "colab": {
      "name": "Dynamo.ipynb",
      "provenance": []
    }
  },
  "nbformat": 4,
  "nbformat_minor": 0
}